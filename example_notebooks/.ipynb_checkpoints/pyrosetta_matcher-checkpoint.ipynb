{
 "cells": [
  {
   "cell_type": "code",
   "execution_count": null,
   "metadata": {},
   "outputs": [],
   "source": [
    "%load_ext lab_black\n",
    "# python internal\n",
    "import collections\n",
    "import copy\n",
    "import gc\n",
    "from glob import glob\n",
    "import h5py\n",
    "import itertools\n",
    "import os\n",
    "import random\n",
    "import re\n",
    "import socket\n",
    "import shutil\n",
    "import subprocess\n",
    "import sys\n",
    "\n",
    "# conda/pip\n",
    "import dask\n",
    "import graphviz\n",
    "import matplotlib.pyplot as plt\n",
    "import pandas as pd\n",
    "import numpy as np\n",
    "import scipy\n",
    "import seaborn as sns\n",
    "from tqdm import tqdm\n",
    "\n",
    "# special packages on the DIGS\n",
    "import py3Dmol\n",
    "import pymol\n",
    "import pyrosetta\n",
    "\n",
    "# notebook magic\n",
    "%matplotlib inline\n",
    "%load_ext autoreload\n",
    "%autoreload 2\n",
    "\n",
    "print(os.getcwd())\n",
    "print(socket.gethostname())"
   ]
  },
  {
   "cell_type": "code",
   "execution_count": null,
   "metadata": {},
   "outputs": [],
   "source": [
    "options = [\n",
    "    #     \"-corrections:beta_nov16 true\",\n",
    "    \"-out:level 200\",\n",
    "    #     \"-holes:dalphaball /home/bcov/ppi/tutorial_build/main/source/external/DAlpahBall/DAlphaBall.gcc\",\n",
    "    #     \"-indexed_structure_store:fragment_store /home/bcov/sc/scaffold_comparison/data/ss_grouped_vall_all.h5\",\n",
    "    #     \"-run:constant_seed true\",\n",
    "    #            \"-database /home/apmoyer/Rosetta/main/database\",\n",
    "    #            \"-in:path:database /home/apmoyer/Rosetta/main/database\",\n",
    "    \"-in:file:extra_res_fa dtz.params\",\n",
    "    # \"-match::lig_name dtz\",\n",
    "    # \"-gen_bonded_params_file scoring/score_functions/generic_potential/generic_bonded.aamerge.txt\",\n",
    "    # \"-genbonded_score_hybrid true\",\n",
    "    \"-geometric_constraint_file luc.cst\",\n",
    "    \"-match::dynamic_grid_refinement true\",\n",
    "    \"-match::enumerate_ligand_rotamers true\",\n",
    "    \"-match::consolidate_matches true\",\n",
    "    \"-match::output_matches_per_group 10\",\n",
    "    \"-in:ignore_unrecognized_res\",\n",
    "    \"-ex1\",\n",
    "    \"-ex2\",\n",
    "    \"-chemical:exclude_patches D_AA\",\n",
    "    \"-match::euclid_bin_size 0.5\",\n",
    "    \"-match::euler_bin_size 5.0\",\n",
    "    \"-match:scaffold_active_site_residues 5kinp_0001.pos\",\n",
    "#     \"-match:ligand_rotamer_index 1\",\n",
    "]\n",
    "kwargs = {\n",
    "    \"-s\": \"/home/hwyeh/denovo_luciferase/rifgen/BDZ_rifdock/scaffolds_5k/5kinp_0001.pdb\",\n",
    "    \"-lig_name\": \"dtz\",\n",
    "}\n",
    "# scaf_pdb = (\n",
    "#     \"/home/hwyeh/denovo_luciferase/rifgen/BDZ_rifdock/scaffolds_5k/5kinp_0001.pdb\"\n",
    "# )\n",
    "# lig_name = \"dtz\"\n",
    "\n",
    "pyrosetta.init(\" \".join(options))"
   ]
  },
  {
   "cell_type": "code",
   "execution_count": 3,
   "metadata": {},
   "outputs": [],
   "source": [
    "import pymatcher as pm"
   ]
  },
  {
   "cell_type": "code",
   "execution_count": null,
   "metadata": {},
   "outputs": [
    {
     "name": "stdout",
     "output_type": "stream",
     "text": [
      "core.conformation.Conformation: {0} [ WARNING ] Attempted to determine the residue type set of an empty pose.\n",
      "protocols.match.MatcherTask: {0} [ WARNING ] no grid file specified for option -grid_boundary. The bounding grid will be generated from the dimensions of the pose. This is experimental at the moment.\n",
      "protocols.toolbox.match_enzdes_util.MatchConstraintFileIfo: {0} [ WARNING ] could not create external geom sampler from file input because not all 6 necessary degrees of freedom are specified.\n",
      " The following DOFs are missing specifications: torsion_A:, torsion_AB:, torsion_B:, .\n",
      "protocols.toolbox.match_enzdes_util.MatchConstraintFileIfo: {0} [ WARNING ] could not create external geom sampler from file input because not all 6 necessary degrees of freedom are specified.\n",
      " The following DOFs are missing specifications: torsion_A:, torsion_AB:, torsion_B:, .\n",
      "protocols.toolbox.match_enzdes_util.MatchConstraintFileIfo: {0} [ WARNING ] could not create external geom sampler from file input because not all 6 necessary degrees of freedom are specified.\n",
      " The following DOFs are missing specifications: torsion_A:, torsion_AB:, torsion_B:, .\n",
      "protocols.toolbox.match_enzdes_util.MatchConstraintFileIfo: {0} [ WARNING ] could not create external geom sampler from file input because not all 6 necessary degrees of freedom are specified.\n",
      " The following DOFs are missing specifications: torsion_A:, torsion_AB:, torsion_B:, .\n",
      "protocols.toolbox.match_enzdes_util.MatchConstraintFileIfo: {0} [ WARNING ] could not create external geom sampler from file input because not all 6 necessary degrees of freedom are specified.\n",
      " The following DOFs are missing specifications: torsion_A:, torsion_AB:, torsion_B:, .\n",
      "protocols.toolbox.match_enzdes_util.MatchConstraintFileIfo: {0} [ WARNING ] could not create external geom sampler from file input because not all 6 necessary degrees of freedom are specified.\n",
      " The following DOFs are missing specifications: torsion_A:, torsion_AB:, torsion_B:, .\n",
      "protocols.toolbox.match_enzdes_util.MatchConstraintFileIfo: {0} [ WARNING ] could not create external geom sampler from file input because not all 6 necessary degrees of freedom are specified.\n",
      " The following DOFs are missing specifications: torsion_A:, torsion_AB:, torsion_B:, .\n",
      "protocols.toolbox.match_enzdes_util.MatchConstraintFileIfo: {0} [ WARNING ] could not create external geom sampler from file input because not all 6 necessary degrees of freedom are specified.\n",
      " The following DOFs are missing specifications: torsion_A:, torsion_AB:, torsion_B:, .\n",
      "protocols.toolbox.match_enzdes_util.MatchConstraintFileIfo: {0} [ WARNING ] could not create external geom sampler from file input because not all 6 necessary degrees of freedom are specified.\n",
      " The following DOFs are missing specifications: torsion_A:, torsion_AB:, torsion_B:, .\n",
      "protocols.toolbox.match_enzdes_util.MatchConstraintFileIfo: {0} [ WARNING ] could not create external geom sampler from file input because not all 6 necessary degrees of freedom are specified.\n",
      " The following DOFs are missing specifications: torsion_A:, torsion_AB:, torsion_B:, .\n",
      "protocols.toolbox.match_enzdes_util.MatchConstraintFileIfo: {0} [ WARNING ] could not create external geom sampler from file input because not all 6 necessary degrees of freedom are specified.\n",
      " The following DOFs are missing specifications: torsion_A:, torsion_AB:, torsion_B:, .\n",
      "protocols.toolbox.match_enzdes_util.MatchConstraintFileIfo: {0} [ WARNING ] could not create external geom sampler from file input because not all 6 necessary degrees of freedom are specified.\n",
      " The following DOFs are missing specifications: torsion_A:, torsion_AB:, torsion_B:, .\n",
      "protocols.toolbox.match_enzdes_util.MatchConstraintFileIfo: {0} [ WARNING ] could not create external geom sampler from file input because not all 6 necessary degrees of freedom are specified.\n",
      " The following DOFs are missing specifications: torsion_A:, torsion_AB:, torsion_B:, .\n"
     ]
    }
   ],
   "source": [
    "posedict = pm.matcher(**kwargs)"
   ]
  },
  {
   "cell_type": "code",
   "execution_count": 8,
   "metadata": {},
   "outputs": [
    {
     "data": {
      "text/plain": [
       "{1: <pyrosetta.rosetta.core.pose.Pose at 0x7fe5c5aa7bb0>,\n",
       " 2: <pyrosetta.rosetta.core.pose.Pose at 0x7fe5c5554f70>,\n",
       " 3: <pyrosetta.rosetta.core.pose.Pose at 0x7fe5c57ebc30>,\n",
       " 4: <pyrosetta.rosetta.core.pose.Pose at 0x7fe5fd4675b0>,\n",
       " 5: <pyrosetta.rosetta.core.pose.Pose at 0x7fe5c58eeab0>,\n",
       " 6: <pyrosetta.rosetta.core.pose.Pose at 0x7fe5c57308f0>,\n",
       " 7: <pyrosetta.rosetta.core.pose.Pose at 0x7fe5c5554fb0>,\n",
       " 8: <pyrosetta.rosetta.core.pose.Pose at 0x7fe5c54baeb0>,\n",
       " 9: <pyrosetta.rosetta.core.pose.Pose at 0x7fe5c57898f0>,\n",
       " 10: <pyrosetta.rosetta.core.pose.Pose at 0x7fe5fd40f6f0>,\n",
       " 11: <pyrosetta.rosetta.core.pose.Pose at 0x7fe5fd40f0b0>,\n",
       " 12: <pyrosetta.rosetta.core.pose.Pose at 0x7fe5fd40f170>,\n",
       " 13: <pyrosetta.rosetta.core.pose.Pose at 0x7fe5fd40f9f0>,\n",
       " 14: <pyrosetta.rosetta.core.pose.Pose at 0x7fe5fd40f4b0>}"
      ]
     },
     "execution_count": 8,
     "metadata": {},
     "output_type": "execute_result"
    }
   ],
   "source": [
    "posedict"
   ]
  },
  {
   "cell_type": "code",
   "execution_count": 6,
   "metadata": {},
   "outputs": [
    {
     "data": {
      "text/plain": [
       "True"
      ]
     },
     "execution_count": 6,
     "metadata": {},
     "output_type": "execute_result"
    }
   ],
   "source": [
    "pyrosetta.rosetta.basic.options.truefalseoption(\"match:ligand_rotamer_index\")"
   ]
  },
  {
   "cell_type": "code",
   "execution_count": null,
   "metadata": {},
   "outputs": [],
   "source": []
  }
 ],
 "metadata": {
  "kernelspec": {
   "display_name": "from_phil",
   "language": "python",
   "name": "from_phil"
  },
  "language_info": {
   "codemirror_mode": {
    "name": "ipython",
    "version": 3
   },
   "file_extension": ".py",
   "mimetype": "text/x-python",
   "name": "python",
   "nbconvert_exporter": "python",
   "pygments_lexer": "ipython3",
   "version": "3.8.8"
  }
 },
 "nbformat": 4,
 "nbformat_minor": 4
}
