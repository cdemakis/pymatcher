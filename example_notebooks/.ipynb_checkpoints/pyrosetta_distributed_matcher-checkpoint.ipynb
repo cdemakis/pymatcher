{
 "cells": [
  {
   "cell_type": "code",
   "execution_count": 1,
   "metadata": {},
   "outputs": [
    {
     "name": "stdout",
     "output_type": "stream",
     "text": [
      "/mnt/home/cdemakis/pymatcher_test\n",
      "dig120\n"
     ]
    }
   ],
   "source": [
    "%load_ext lab_black\n",
    "# python internal\n",
    "import collections\n",
    "import copy\n",
    "import gc\n",
    "from glob import glob\n",
    "import h5py\n",
    "import itertools\n",
    "import os\n",
    "import random\n",
    "import re\n",
    "import socket\n",
    "import shutil\n",
    "import subprocess\n",
    "import sys\n",
    "\n",
    "# conda/pip\n",
    "import dask\n",
    "import graphviz\n",
    "import matplotlib.pyplot as plt\n",
    "import pandas as pd\n",
    "import numpy as np\n",
    "import scipy\n",
    "import seaborn as sns\n",
    "from tqdm import tqdm\n",
    "\n",
    "# special packages on the DIGS\n",
    "import py3Dmol\n",
    "import pymol\n",
    "import pyrosetta\n",
    "\n",
    "# notebook magic\n",
    "%matplotlib inline\n",
    "%load_ext autoreload\n",
    "%autoreload 2\n",
    "\n",
    "print(os.getcwd())\n",
    "print(socket.gethostname())"
   ]
  },
  {
   "cell_type": "code",
   "execution_count": 3,
   "metadata": {},
   "outputs": [],
   "source": [
    "import pymatcher as pm\n",
    "from pyrosetta.distributed import requires_init\n",
    "from pyrosetta.distributed.packed_pose.core import PackedPose\n",
    "\n",
    "\n",
    "@requires_init\n",
    "def wrapper(packed_pose_in: PackedPose, **kwargs):\n",
    "    print(kwargs[\"-out_path\"])\n",
    "    os.chdir(kwargs[\"-out_path\"])\n",
    "    pm.matcher(**kwargs)\n",
    "    return None"
   ]
  },
  {
   "cell_type": "code",
   "execution_count": 4,
   "metadata": {},
   "outputs": [
    {
     "name": "stderr",
     "output_type": "stream",
     "text": [
      "INFO:pyrosetta.distributed:maybe_init performing pyrosetta initialization: {'options': '-match::dynamic_grid_refinement true -match::consolidate_matches true -ex1 -out:level 300 -match::enumerate_ligand_rotamers true -match::euler_bin_size 5.0 -run:constant_seed 1 -in:ignore_unrecognized_res -in:file:extra_res_fa /home/cdemakis/pymatcher_test/dtz.params -match::output_matches_per_group 10 -geometric_constraint_file /home/cdemakis/pymatcher_test/luc.cst -ex2 -chemical:exclude_patches D_AA -match::euclid_bin_size 0.5', 'extra_options': '-out:levels all:warning', 'set_logging_handler': 'interactive', 'silent': True}\n",
      "INFO:pyrosetta.rosetta:Found rosetta database at: /home/cdemakis/.conda/envs/from_phil/lib/python3.8/site-packages/pyrosetta/database; using it....\n",
      "INFO:pyrosetta.rosetta:PyRosetta-4 2021 [Rosetta PyRosetta4.conda.linux.cxx11thread.serialization.CentOS.python38.Release 2021.27+release.7ce64884a77d606b7b667c363527acc846541030 2021-07-09T18:10:05] retrieved from: http://www.pyrosetta.org\n",
      "(C) Copyright Rosetta Commons Member Institutions. Created in JHU by Sergey Lyskov and PyRosetta Team.\n"
     ]
    },
    {
     "name": "stdout",
     "output_type": "stream",
     "text": [
      "Warning: To use the `pyrosetta.distributed.cluster` namespace, please create and activate a conda environment (other than 'base') to ensure reproducibility of PyRosetta simulations. For instructions, visit:\n",
      "https://docs.conda.io/projects/conda/en/latest/user-guide/tasks/manage-environments.html\n",
      "https://conda.io/activation\n",
      "\n",
      "run the following from your local terminal:\n",
      "ssh -L 8000:localhost:8787 cdemakis@dig36\n",
      "#!/usr/bin/env bash\n",
      "\n",
      "#SBATCH -J dask-worker\n",
      "#SBATCH -e /mnt/home/cdemakis/logs/slurm_logs/dask-worker-%J.err\n",
      "#SBATCH -o /mnt/home/cdemakis/logs/slurm_logs/dask-worker-%J.out\n",
      "#SBATCH -p short\n",
      "#SBATCH -n 1\n",
      "#SBATCH --cpus-per-task=1\n",
      "#SBATCH --mem=8G\n",
      "#SBATCH -t 02:00:00\n",
      "\n",
      "JOB_ID=${SLURM_JOB_ID%;*}\n",
      "\n",
      "/home/cdemakis/.conda/envs/from_phil/bin/python -m distributed.cli.dask_worker tcp://172.16.131.66:37803 --nthreads 1 --memory-limit 7.45GiB --name name --nanny --death-timeout 120 --local-directory $TMPDIR/dask --lifetime 2h --lifetime-stagger 4m\n",
      "\n",
      "<Client: 'tcp://172.16.131.66:37803' processes=0 threads=0, memory=0 B>\n"
     ]
    },
    {
     "name": "stderr",
     "output_type": "stream",
     "text": [
      "WARNING:root:`conda env export --prefix /home/cdemakis/.conda/envs/from_phil` did not run successfully, so the active conda environment YML file string was not saved! It is recommended to run: \n",
      "`conda env export --prefix /home/cdemakis/.conda/envs/from_phil > environment.yml`\n",
      "to reproduce this simulation later.\n"
     ]
    }
   ],
   "source": [
    "from dask.distributed import Client\n",
    "from dask_jobqueue import SLURMCluster\n",
    "import logging\n",
    "import pwd\n",
    "from pyrosetta.distributed.cluster.core import PyRosettaCluster\n",
    "\n",
    "\n",
    "print(\"run the following from your local terminal:\")\n",
    "print(\n",
    "    f\"ssh -L 8000:localhost:8787 {pwd.getpwuid(os.getuid()).pw_name}@{socket.gethostname()}\"\n",
    ")\n",
    "\n",
    "\n",
    "def create_tasks(selected, options):\n",
    "    for scaf in scafs:\n",
    "        tasks = {\n",
    "            \"options\": f\"-match:scaffold_active_site_residues /home/cdemakis/pymatcher_test/{scaf}.pos\",\n",
    "        }\n",
    "        tasks[\"extra_options\"] = options\n",
    "        tasks[\n",
    "            \"-s\"\n",
    "        ] = f\"/home/hwyeh/denovo_luciferase/rifgen/BDZ_rifdock/scaffolds_5k/5kinp_0001.pdb\"\n",
    "        tasks[\"-lig_name\"] = \"dtz\"\n",
    "        tasks[\"-out_path\"] = f\"/home/cdemakis/pymatcher_test/{scaf}\"\n",
    "        yield tasks\n",
    "\n",
    "\n",
    "logging.basicConfig(level=logging.INFO)\n",
    "scafs = [\"5kinp_0001_1\", \"5kinp_0001_2\"]\n",
    "options = {\n",
    "    \"-out:level 300\",\n",
    "    \"-in:file:extra_res_fa /home/cdemakis/pymatcher_test/dtz.params\",\n",
    "    \"-geometric_constraint_file /home/cdemakis/pymatcher_test/luc.cst\",\n",
    "    \"-match::dynamic_grid_refinement true\",\n",
    "    \"-match::enumerate_ligand_rotamers true\",\n",
    "    \"-match::consolidate_matches true\",\n",
    "    \"-match::output_matches_per_group 10\",\n",
    "    \"-in:ignore_unrecognized_res\",\n",
    "    \"-ex1\",\n",
    "    \"-ex2\",\n",
    "    \"-chemical:exclude_patches D_AA\",\n",
    "    \"-match::euclid_bin_size 0.5\",\n",
    "    \"-match::euler_bin_size 5.0\",\n",
    "}\n",
    "\n",
    "output_path = os.path.join(os.getcwd())\n",
    "client_opts = options\n",
    "client_opts.add(\n",
    "    \"-run:constant_seed 1\",\n",
    ")\n",
    "pyrosetta.distributed.init(\" \".join(list(client_opts)))\n",
    "\n",
    "if __name__ == \"__main__\":\n",
    "    # configure SLURM cluster as a context manager\n",
    "    with SLURMCluster(\n",
    "        cores=1,\n",
    "        processes=1,\n",
    "        job_cpu=1,\n",
    "        memory=\"8GB\",\n",
    "        queue=\"short\",\n",
    "        walltime=\"02:00:00\",\n",
    "        death_timeout=120,\n",
    "        local_directory=\"$TMPDIR/dask\",\n",
    "        log_directory=\"/mnt/home/cdemakis/logs/slurm_logs\",\n",
    "        extra=[\"--lifetime\", \"2h\", \"--lifetime-stagger\", \"4m\"],\n",
    "    ) as cluster:\n",
    "        print(cluster.job_script())\n",
    "        # scale between 1-1020 workers,\n",
    "        cluster.adapt(\n",
    "            minimum=1,\n",
    "            maximum=1,  # TODO\n",
    "            wait_count=999,  # Number of consecutive times that a worker should be suggested for removal it is removed\n",
    "            interval=\"5s\",  # Time between checks\n",
    "        )\n",
    "        # setup a client to interact with the cluster as a context manager\n",
    "        with Client(cluster) as client:\n",
    "            print(client)\n",
    "            PyRosettaCluster(\n",
    "                tasks=create_tasks(scafs, options),\n",
    "                client=client,\n",
    "                scratch_dir=output_path,\n",
    "                output_path=output_path,\n",
    "                sha1=None,  # ignore git status for non-production runs\n",
    "            ).distribute(protocols=[wrapper])"
   ]
  },
  {
   "cell_type": "code",
   "execution_count": 4,
   "metadata": {},
   "outputs": [
    {
     "name": "stdout",
     "output_type": "stream",
     "text": [
      "1\n"
     ]
    }
   ],
   "source": [
    "for a in np.arange(1, 2):\n",
    "    print(a)"
   ]
  },
  {
   "cell_type": "code",
   "execution_count": null,
   "metadata": {},
   "outputs": [],
   "source": []
  }
 ],
 "metadata": {
  "kernelspec": {
   "display_name": "from_phil",
   "language": "python",
   "name": "from_phil"
  },
  "language_info": {
   "codemirror_mode": {
    "name": "ipython",
    "version": 3
   },
   "file_extension": ".py",
   "mimetype": "text/x-python",
   "name": "python",
   "nbconvert_exporter": "python",
   "pygments_lexer": "ipython3",
   "version": "3.8.8"
  }
 },
 "nbformat": 4,
 "nbformat_minor": 4
}
