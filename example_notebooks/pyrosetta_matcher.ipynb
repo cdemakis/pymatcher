{
 "cells": [
  {
   "cell_type": "code",
   "execution_count": 1,
   "metadata": {},
   "outputs": [
    {
     "name": "stdout",
     "output_type": "stream",
     "text": [
      "/mnt/home/cdemakis/share/pymatcher/example_notebooks\n",
      "dig78\n"
     ]
    }
   ],
   "source": [
    "%load_ext lab_black\n",
    "import os\n",
    "import socket\n",
    "import sys\n",
    "import pyrosetta\n",
    "\n",
    "sys.path.append(\"..\")\n",
    "\n",
    "print(os.getcwd())\n",
    "print(socket.gethostname())"
   ]
  },
  {
   "cell_type": "code",
   "execution_count": 2,
   "metadata": {},
   "outputs": [
    {
     "name": "stdout",
     "output_type": "stream",
     "text": [
      "PyRosetta-4 2021 [Rosetta PyRosetta4.conda.linux.cxx11thread.serialization.CentOS.python38.Release 2021.27+release.7ce64884a77d606b7b667c363527acc846541030 2021-07-09T18:10:05] retrieved from: http://www.pyrosetta.org\n",
      "(C) Copyright Rosetta Commons Member Institutions. Created in JHU by Sergey Lyskov and PyRosetta Team.\n"
     ]
    }
   ],
   "source": [
    "options = [\n",
    "    \"-out:level 200\",  # The Matcher creates a lot of output at out:level 300, which can freeze notebooks.  Use out:level 200 in notebooks and out:level 300 elsewehre\n",
    "    \"-in:file:extra_res_fa in/lig.params\",\n",
    "    \"-geometric_constraint_file in/test.cst\",\n",
    "    \"-match::dynamic_grid_refinement true\",\n",
    "    \"-match::enumerate_ligand_rotamers true\",\n",
    "    \"-match::consolidate_matches true\",\n",
    "    \"-match::output_matches_per_group 10\",\n",
    "    \"-in:ignore_unrecognized_res\",\n",
    "    \"-ex1\",\n",
    "    \"-ex2\",\n",
    "    \"-chemical:exclude_patches D_AA\",\n",
    "    \"-match::euclid_bin_size 0.5\",\n",
    "    \"-match::euler_bin_size 5.0\",\n",
    "    \"-match:scaffold_active_site_residues in/test1.pos\",\n",
    "    #     \"-match:ligand_rotamer_index 1\",\n",
    "]\n",
    "kwargs = {\n",
    "    \"-s\": \"in/test1.pdb\",\n",
    "    \"-lig_name\": \"lig\",\n",
    "}\n",
    "\n",
    "pyrosetta.init(\" \".join(options))"
   ]
  },
  {
   "cell_type": "code",
   "execution_count": 3,
   "metadata": {},
   "outputs": [],
   "source": [
    "import pymatcher as pm"
   ]
  },
  {
   "cell_type": "code",
   "execution_count": 4,
   "metadata": {},
   "outputs": [
    {
     "name": "stdout",
     "output_type": "stream",
     "text": [
      "core.conformation.Conformation: {0} [ WARNING ] Attempted to determine the residue type set of an empty pose.\n",
      "protocols.match.MatcherTask: {0} [ WARNING ] no grid file specified for option -grid_boundary. The bounding grid will be generated from the dimensions of the pose. This is experimental at the moment.\n",
      "protocols.toolbox.match_enzdes_util.MatchConstraintFileIfo: {0} [ WARNING ] could not create external geom sampler from file input because not all 6 necessary degrees of freedom are specified.\n",
      " The following DOFs are missing specifications: torsion_A:, torsion_AB:, torsion_B:, .\n",
      "protocols.toolbox.match_enzdes_util.MatchConstraintFileIfo: {0} [ WARNING ] could not create external geom sampler from file input because not all 6 necessary degrees of freedom are specified.\n",
      " The following DOFs are missing specifications: torsion_A:, torsion_AB:, torsion_B:, .\n",
      "protocols.toolbox.match_enzdes_util.MatchConstraintFileIfo: {0} [ WARNING ] could not create external geom sampler from file input because not all 6 necessary degrees of freedom are specified.\n",
      " The following DOFs are missing specifications: torsion_A:, torsion_AB:, torsion_B:, .\n",
      "protocols.toolbox.match_enzdes_util.MatchConstraintFileIfo: {0} [ WARNING ] could not create external geom sampler from file input because not all 6 necessary degrees of freedom are specified.\n",
      " The following DOFs are missing specifications: torsion_A:, torsion_AB:, torsion_B:, .\n",
      "protocols.toolbox.match_enzdes_util.MatchConstraintFileIfo: {0} [ WARNING ] could not create external geom sampler from file input because not all 6 necessary degrees of freedom are specified.\n",
      " The following DOFs are missing specifications: torsion_A:, torsion_AB:, torsion_B:, .\n",
      "protocols.toolbox.match_enzdes_util.MatchConstraintFileIfo: {0} [ WARNING ] could not create external geom sampler from file input because not all 6 necessary degrees of freedom are specified.\n",
      " The following DOFs are missing specifications: torsion_A:, torsion_AB:, torsion_B:, .\n",
      "protocols.toolbox.match_enzdes_util.MatchConstraintFileIfo: {0} [ WARNING ] could not create external geom sampler from file input because not all 6 necessary degrees of freedom are specified.\n",
      " The following DOFs are missing specifications: torsion_A:, torsion_AB:, torsion_B:, .\n",
      "protocols.toolbox.match_enzdes_util.MatchConstraintFileIfo: {0} [ WARNING ] could not create external geom sampler from file input because not all 6 necessary degrees of freedom are specified.\n",
      " The following DOFs are missing specifications: torsion_A:, torsion_AB:, torsion_B:, .\n",
      "protocols.toolbox.match_enzdes_util.MatchConstraintFileIfo: {0} [ WARNING ] could not create external geom sampler from file input because not all 6 necessary degrees of freedom are specified.\n",
      " The following DOFs are missing specifications: torsion_A:, torsion_AB:, torsion_B:, .\n",
      "protocols.toolbox.match_enzdes_util.MatchConstraintFileIfo: {0} [ WARNING ] could not create external geom sampler from file input because not all 6 necessary degrees of freedom are specified.\n",
      " The following DOFs are missing specifications: torsion_A:, torsion_AB:, torsion_B:, .\n",
      "protocols.toolbox.match_enzdes_util.MatchConstraintFileIfo: {0} [ WARNING ] could not create external geom sampler from file input because not all 6 necessary degrees of freedom are specified.\n",
      " The following DOFs are missing specifications: torsion_A:, torsion_AB:, torsion_B:, .\n",
      "protocols.toolbox.match_enzdes_util.MatchConstraintFileIfo: {0} [ WARNING ] could not create external geom sampler from file input because not all 6 necessary degrees of freedom are specified.\n",
      " The following DOFs are missing specifications: torsion_A:, torsion_AB:, torsion_B:, .\n",
      "protocols.toolbox.match_enzdes_util.MatchConstraintFileIfo: {0} [ WARNING ] could not create external geom sampler from file input because not all 6 necessary degrees of freedom are specified.\n",
      " The following DOFs are missing specifications: torsion_A:, torsion_AB:, torsion_B:, .\n",
      "Matcher ran for 511.2170488834381 seconds, where finding hits took 509.5065507888794 seconds and processing the matches took 1.7104942798614502 seconds.\n"
     ]
    }
   ],
   "source": [
    "poselist = pm.matcher(**kwargs)"
   ]
  },
  {
   "cell_type": "code",
   "execution_count": 5,
   "metadata": {},
   "outputs": [
    {
     "data": {
      "text/plain": [
       "[<pyrosetta.rosetta.core.pose.Pose at 0x7f67b86f6030>,\n",
       " <pyrosetta.rosetta.core.pose.Pose at 0x7f67b8316ab0>,\n",
       " <pyrosetta.rosetta.core.pose.Pose at 0x7f67891d0af0>,\n",
       " <pyrosetta.rosetta.core.pose.Pose at 0x7f67891d0cb0>,\n",
       " <pyrosetta.rosetta.core.pose.Pose at 0x7f67891d0970>,\n",
       " <pyrosetta.rosetta.core.pose.Pose at 0x7f67891d0e70>,\n",
       " <pyrosetta.rosetta.core.pose.Pose at 0x7f67891d0db0>,\n",
       " <pyrosetta.rosetta.core.pose.Pose at 0x7f67891d0df0>,\n",
       " <pyrosetta.rosetta.core.pose.Pose at 0x7f67891d0e30>,\n",
       " <pyrosetta.rosetta.core.pose.Pose at 0x7f67891d0bf0>,\n",
       " <pyrosetta.rosetta.core.pose.Pose at 0x7f67891d0ef0>,\n",
       " <pyrosetta.rosetta.core.pose.Pose at 0x7f67891d0a70>,\n",
       " <pyrosetta.rosetta.core.pose.Pose at 0x7f67891d0a30>,\n",
       " <pyrosetta.rosetta.core.pose.Pose at 0x7f67891d0d30>]"
      ]
     },
     "execution_count": 5,
     "metadata": {},
     "output_type": "execute_result"
    }
   ],
   "source": [
    "poselist"
   ]
  },
  {
   "cell_type": "code",
   "execution_count": 6,
   "metadata": {},
   "outputs": [
    {
     "data": {
      "text/plain": [
       "{'matcher_data': '{\"match_group\": 1, \"theozyme\": {\"59\": [\"ARG\", \"1\", \"1\"], \"61\": [\"GLU\", \"2\", \"1\"], \"79\": [\"SER\", \"3\", \"1\"]}, \"ligand\": \"lig\", \"scaffold\": \"in/test1.pdb\", \"cst_file\": \"in/test.cst\", \"matchable_positions\": \"in/test1.pos\"}'}"
      ]
     },
     "execution_count": 6,
     "metadata": {},
     "output_type": "execute_result"
    }
   ],
   "source": [
    "poselist[0].scores"
   ]
  },
  {
   "cell_type": "code",
   "execution_count": 7,
   "metadata": {},
   "outputs": [
    {
     "data": {
      "text/plain": [
       "'UM_1_R59E61S79_test1_test_1'"
      ]
     },
     "execution_count": 7,
     "metadata": {},
     "output_type": "execute_result"
    }
   ],
   "source": [
    "import json\n",
    "\n",
    "matcher_data = json.loads(poselist[0].scores[\"matcher_data\"])\n",
    "aa_3letter = [\n",
    "    \"ALA\",\n",
    "    \"ARG\",\n",
    "    \"ASN\",\n",
    "    \"ASP\",\n",
    "    \"CYS\",\n",
    "    \"GLN\",\n",
    "    \"GLU\",\n",
    "    \"GLY\",\n",
    "    \"HIS\",\n",
    "    \"ILE\",\n",
    "    \"LEU\",\n",
    "    \"LYS\",\n",
    "    \"MET\",\n",
    "    \"PHE\",\n",
    "    \"PRO\",\n",
    "    \"SER\",\n",
    "    \"THR\",\n",
    "    \"TRP\",\n",
    "    \"TYR\",\n",
    "    \"VAL\",\n",
    "]\n",
    "aa_1letter = list(\"ARNDCQEGHILKMFPSTWYV\")\n",
    "aa321 = {aa3: aa1 for aa1, aa3 in zip(aa_1letter, aa_3letter)}\n",
    "theo_str = \"\".join(\n",
    "    [f\"{aa321[res[0]]}{pos}\" for pos, res in matcher_data[\"theozyme\"].items()]\n",
    ")\n",
    "old_style_name = f\"UM_{matcher_data['match_group']}_{theo_str}_{matcher_data['scaffold'].split('/')[-1].replace('.pdb','')}_{matcher_data['cst_file'].split('/')[-1].replace('.cst','')}_1\"\n",
    "old_style_name"
   ]
  },
  {
   "cell_type": "code",
   "execution_count": null,
   "metadata": {},
   "outputs": [],
   "source": []
  }
 ],
 "metadata": {
  "kernelspec": {
   "display_name": "from_phil",
   "language": "python",
   "name": "from_phil"
  },
  "language_info": {
   "codemirror_mode": {
    "name": "ipython",
    "version": 3
   },
   "file_extension": ".py",
   "mimetype": "text/x-python",
   "name": "python",
   "nbconvert_exporter": "python",
   "pygments_lexer": "ipython3",
   "version": "3.8.8"
  }
 },
 "nbformat": 4,
 "nbformat_minor": 4
}
